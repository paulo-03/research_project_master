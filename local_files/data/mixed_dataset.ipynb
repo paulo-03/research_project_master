{
 "cells": [
  {
   "cell_type": "markdown",
   "source": [
    "# Mixed Dataset\n",
    "\n",
    "This is a jupyter notebook to easily create folders with mixed DL and CT images.\n",
    "\n",
    "**Authors:** [Raphaël Achddou](https://people.epfl.ch/raphael.achddou) ([contact](mailto:raphael.achddou@epfl.ch)), [Paulo Ribeiro](https://people.epfl.ch/paulo.ribeirodecarvalho) ([contact](mailto:paulo.ribeirodecarvalho@epfl.ch))"
   ],
   "metadata": {
    "collapsed": false
   }
  },
  {
   "cell_type": "code",
   "execution_count": null,
   "outputs": [],
   "source": [
    "!pip install cv2"
   ],
   "metadata": {
    "collapsed": false
   }
  },
  {
   "cell_type": "code",
   "execution_count": 1,
   "outputs": [],
   "source": [
    "import os\n",
    "import cv2\n",
    "import random\n",
    "from tqdm.notebook import tqdm\n",
    "\n",
    "SEED = 42\n",
    "PERCENTAGES = [0.2, 0.4, 0.6, 0.8]"
   ],
   "metadata": {
    "collapsed": false,
    "ExecuteTime": {
     "end_time": "2024-05-27T18:40:11.656464Z",
     "start_time": "2024-05-27T18:40:11.497594Z"
    }
   }
  },
  {
   "cell_type": "markdown",
   "source": [
    "## Load DL and CT\n",
    "\n",
    "First load all the DL and CT images."
   ],
   "metadata": {
    "collapsed": false
   }
  },
  {
   "cell_type": "code",
   "execution_count": 2,
   "outputs": [
    {
     "name": "stdout",
     "output_type": "stream",
     "text": [
      "Unexpected exception formatting exception. Falling back to standard exception\n"
     ]
    },
    {
     "name": "stderr",
     "output_type": "stream",
     "text": [
      "Traceback (most recent call last):\n",
      "  File \"/opt/anaconda3/envs/research_sp/lib/python3.10/site-packages/IPython/core/interactiveshell.py\", line 3577, in run_code\n",
      "  File \"/var/folders/tn/31pmfl0n667ghvsfkxf6nxyh0000gn/T/ipykernel_82516/1435081786.py\", line 22, in <module>\n",
      "    dl_images = load_images_in_folder(folder_path=dl_folder)\n",
      "  File \"/var/folders/tn/31pmfl0n667ghvsfkxf6nxyh0000gn/T/ipykernel_82516/1435081786.py\", line 16, in load_images_in_folder\n",
      "    image = Image.open(file_path)\n",
      "  File \"/opt/anaconda3/envs/research_sp/lib/python3.10/site-packages/PIL/Image.py\", line 3274, in open\n",
      "  File \"/opt/anaconda3/envs/research_sp/lib/python3.10/posixpath.py\", line 397, in realpath\n",
      "  File \"/opt/anaconda3/envs/research_sp/lib/python3.10/posixpath.py\", line 384, in abspath\n",
      "OSError: [Errno 24] Too many open files\n",
      "\n",
      "During handling of the above exception, another exception occurred:\n",
      "\n",
      "Traceback (most recent call last):\n",
      "  File \"/opt/anaconda3/envs/research_sp/lib/python3.10/site-packages/IPython/core/interactiveshell.py\", line 2168, in showtraceback\n",
      "  File \"/opt/anaconda3/envs/research_sp/lib/python3.10/site-packages/IPython/core/ultratb.py\", line 1454, in structured_traceback\n",
      "  File \"/opt/anaconda3/envs/research_sp/lib/python3.10/site-packages/IPython/core/ultratb.py\", line 1345, in structured_traceback\n",
      "  File \"/opt/anaconda3/envs/research_sp/lib/python3.10/site-packages/IPython/core/ultratb.py\", line 1192, in structured_traceback\n",
      "  File \"/opt/anaconda3/envs/research_sp/lib/python3.10/site-packages/IPython/core/ultratb.py\", line 1082, in format_exception_as_a_whole\n",
      "  File \"/opt/anaconda3/envs/research_sp/lib/python3.10/site-packages/IPython/core/ultratb.py\", line 1133, in get_records\n",
      "  File \"/opt/anaconda3/envs/research_sp/lib/python3.10/site-packages/pygments/styles/__init__.py\", line 45, in get_style_by_name\n",
      "  File \"<frozen importlib._bootstrap>\", line 1027, in _find_and_load\n",
      "  File \"<frozen importlib._bootstrap>\", line 1006, in _find_and_load_unlocked\n",
      "  File \"<frozen importlib._bootstrap>\", line 688, in _load_unlocked\n",
      "  File \"<frozen importlib._bootstrap_external>\", line 879, in exec_module\n",
      "  File \"<frozen importlib._bootstrap_external>\", line 1016, in get_code\n",
      "  File \"<frozen importlib._bootstrap_external>\", line 1073, in get_data\n",
      "OSError: [Errno 24] Too many open files: '/opt/anaconda3/envs/research_sp/lib/python3.10/site-packages/pygments/styles/default.py'\n"
     ]
    }
   ],
   "source": [
    "# Specify the directory containing the .png images\n",
    "dl_folder = \"train/dl_images_texture\"\n",
    "ct_folder = \"train/ct_images\"\n",
    "\n",
    "# Iterate over all files in the directory\n",
    "def load_images_in_folder(folder_path: str):\n",
    "    images = []\n",
    "    count = 0\n",
    "    for filename in tqdm(os.listdir(folder_path)):\n",
    "        # Check if the file is a .png image\n",
    "        count += 1\n",
    "        if filename.endswith(\".png\"):\n",
    "            # Construct the full file path\n",
    "            file_path = os.path.join(folder_path, filename)\n",
    "            # Open the image file\n",
    "            image = cv2.imread(file_path)\n",
    "            # Append the image to the list\n",
    "            if image is not None:\n",
    "                images.append(image)\n",
    "\n",
    "    return images\n",
    "\n",
    "dl_images = load_images_in_folder(folder_path=dl_folder)\n",
    "print(f\"Loaded {len(dl_images)} DL images.\")\n",
    "ct_images = load_images_in_folder(folder_path=ct_folder)\n",
    "print(f\"Loaded {len(ct_images)} CT images.\")"
   ],
   "metadata": {
    "collapsed": false,
    "ExecuteTime": {
     "end_time": "2024-05-27T18:33:48.833672Z",
     "start_time": "2024-05-27T18:33:47.297181Z"
    }
   }
  },
  {
   "cell_type": "markdown",
   "source": [
    "## Mixed Dataset\n",
    "\n",
    "Compute the mixed dataset and store it in the disk."
   ],
   "metadata": {
    "collapsed": false
   }
  },
  {
   "cell_type": "code",
   "execution_count": 5,
   "outputs": [
    {
     "ename": "ValueError",
     "evalue": "Operation on closed image",
     "output_type": "error",
     "traceback": [
      "\u001B[0;31m---------------------------------------------------------------------------\u001B[0m",
      "\u001B[0;31mValueError\u001B[0m                                Traceback (most recent call last)",
      "Cell \u001B[0;32mIn[5], line 21\u001B[0m\n\u001B[1;32m     18\u001B[0m         \u001B[38;5;28;01mfor\u001B[39;00m idx, image \u001B[38;5;129;01min\u001B[39;00m \u001B[38;5;28menumerate\u001B[39m(mixed_images):\n\u001B[1;32m     19\u001B[0m             image\u001B[38;5;241m.\u001B[39msave(os\u001B[38;5;241m.\u001B[39mpath\u001B[38;5;241m.\u001B[39mjoin(current_folder_name, \u001B[38;5;124mf\u001B[39m\u001B[38;5;124m\"\u001B[39m\u001B[38;5;124mimage_\u001B[39m\u001B[38;5;132;01m{\u001B[39;00midx\u001B[38;5;132;01m:\u001B[39;00m\u001B[38;5;124m05\u001B[39m\u001B[38;5;132;01m}\u001B[39;00m\u001B[38;5;124m.png\u001B[39m\u001B[38;5;124m\"\u001B[39m))\n\u001B[0;32m---> 21\u001B[0m \u001B[43mcreate_mixed_dataset\u001B[49m\u001B[43m(\u001B[49m\u001B[43mct_images\u001B[49m\u001B[38;5;241;43m=\u001B[39;49m\u001B[43mct_images\u001B[49m\u001B[43m[\u001B[49m\u001B[43m:\u001B[49m\u001B[38;5;241;43m10\u001B[39;49m\u001B[43m]\u001B[49m\u001B[43m,\u001B[49m\u001B[43m \u001B[49m\u001B[43mdl_images\u001B[49m\u001B[38;5;241;43m=\u001B[39;49m\u001B[43mdl_images\u001B[49m\u001B[43m[\u001B[49m\u001B[43m:\u001B[49m\u001B[38;5;241;43m10\u001B[39;49m\u001B[43m]\u001B[49m\u001B[43m,\u001B[49m\u001B[43m \u001B[49m\u001B[43mpercentage\u001B[49m\u001B[38;5;241;43m=\u001B[39;49m\u001B[43mPERCENTAGES\u001B[49m\u001B[43m)\u001B[49m\n",
      "Cell \u001B[0;32mIn[5], line 19\u001B[0m, in \u001B[0;36mcreate_mixed_dataset\u001B[0;34m(ct_images, dl_images, percentage)\u001B[0m\n\u001B[1;32m     17\u001B[0m \u001B[38;5;66;03m# Store the mixed images in disk\u001B[39;00m\n\u001B[1;32m     18\u001B[0m \u001B[38;5;28;01mfor\u001B[39;00m idx, image \u001B[38;5;129;01min\u001B[39;00m \u001B[38;5;28menumerate\u001B[39m(mixed_images):\n\u001B[0;32m---> 19\u001B[0m     \u001B[43mimage\u001B[49m\u001B[38;5;241;43m.\u001B[39;49m\u001B[43msave\u001B[49m\u001B[43m(\u001B[49m\u001B[43mos\u001B[49m\u001B[38;5;241;43m.\u001B[39;49m\u001B[43mpath\u001B[49m\u001B[38;5;241;43m.\u001B[39;49m\u001B[43mjoin\u001B[49m\u001B[43m(\u001B[49m\u001B[43mcurrent_folder_name\u001B[49m\u001B[43m,\u001B[49m\u001B[43m \u001B[49m\u001B[38;5;124;43mf\u001B[39;49m\u001B[38;5;124;43m\"\u001B[39;49m\u001B[38;5;124;43mimage_\u001B[39;49m\u001B[38;5;132;43;01m{\u001B[39;49;00m\u001B[43midx\u001B[49m\u001B[38;5;132;43;01m:\u001B[39;49;00m\u001B[38;5;124;43m05\u001B[39;49m\u001B[38;5;132;43;01m}\u001B[39;49;00m\u001B[38;5;124;43m.png\u001B[39;49m\u001B[38;5;124;43m\"\u001B[39;49m\u001B[43m)\u001B[49m\u001B[43m)\u001B[49m\n",
      "File \u001B[0;32m/opt/anaconda3/envs/research_sp/lib/python3.10/site-packages/PIL/Image.py:2421\u001B[0m, in \u001B[0;36mImage.save\u001B[0;34m(self, fp, format, **params)\u001B[0m\n\u001B[1;32m   2418\u001B[0m     filename \u001B[38;5;241m=\u001B[39m os\u001B[38;5;241m.\u001B[39mpath\u001B[38;5;241m.\u001B[39mrealpath(os\u001B[38;5;241m.\u001B[39mfspath(fp\u001B[38;5;241m.\u001B[39mname))\n\u001B[1;32m   2420\u001B[0m \u001B[38;5;66;03m# may mutate self!\u001B[39;00m\n\u001B[0;32m-> 2421\u001B[0m \u001B[38;5;28;43mself\u001B[39;49m\u001B[38;5;241;43m.\u001B[39;49m\u001B[43m_ensure_mutable\u001B[49m\u001B[43m(\u001B[49m\u001B[43m)\u001B[49m\n\u001B[1;32m   2423\u001B[0m save_all \u001B[38;5;241m=\u001B[39m params\u001B[38;5;241m.\u001B[39mpop(\u001B[38;5;124m\"\u001B[39m\u001B[38;5;124msave_all\u001B[39m\u001B[38;5;124m\"\u001B[39m, \u001B[38;5;28;01mFalse\u001B[39;00m)\n\u001B[1;32m   2424\u001B[0m \u001B[38;5;28mself\u001B[39m\u001B[38;5;241m.\u001B[39mencoderinfo \u001B[38;5;241m=\u001B[39m params\n",
      "File \u001B[0;32m/opt/anaconda3/envs/research_sp/lib/python3.10/site-packages/PIL/Image.py:595\u001B[0m, in \u001B[0;36mImage._ensure_mutable\u001B[0;34m(self)\u001B[0m\n\u001B[1;32m    593\u001B[0m \u001B[38;5;28;01mdef\u001B[39;00m \u001B[38;5;21m_ensure_mutable\u001B[39m(\u001B[38;5;28mself\u001B[39m) \u001B[38;5;241m-\u001B[39m\u001B[38;5;241m>\u001B[39m \u001B[38;5;28;01mNone\u001B[39;00m:\n\u001B[1;32m    594\u001B[0m     \u001B[38;5;28;01mif\u001B[39;00m \u001B[38;5;28mself\u001B[39m\u001B[38;5;241m.\u001B[39mreadonly:\n\u001B[0;32m--> 595\u001B[0m         \u001B[38;5;28;43mself\u001B[39;49m\u001B[38;5;241;43m.\u001B[39;49m\u001B[43m_copy\u001B[49m\u001B[43m(\u001B[49m\u001B[43m)\u001B[49m\n\u001B[1;32m    596\u001B[0m     \u001B[38;5;28;01melse\u001B[39;00m:\n\u001B[1;32m    597\u001B[0m         \u001B[38;5;28mself\u001B[39m\u001B[38;5;241m.\u001B[39mload()\n",
      "File \u001B[0;32m/opt/anaconda3/envs/research_sp/lib/python3.10/site-packages/PIL/Image.py:588\u001B[0m, in \u001B[0;36mImage._copy\u001B[0;34m(self)\u001B[0m\n\u001B[1;32m    587\u001B[0m \u001B[38;5;28;01mdef\u001B[39;00m \u001B[38;5;21m_copy\u001B[39m(\u001B[38;5;28mself\u001B[39m) \u001B[38;5;241m-\u001B[39m\u001B[38;5;241m>\u001B[39m \u001B[38;5;28;01mNone\u001B[39;00m:\n\u001B[0;32m--> 588\u001B[0m     \u001B[38;5;28;43mself\u001B[39;49m\u001B[38;5;241;43m.\u001B[39;49m\u001B[43mload\u001B[49m\u001B[43m(\u001B[49m\u001B[43m)\u001B[49m\n\u001B[1;32m    589\u001B[0m     \u001B[38;5;28mself\u001B[39m\u001B[38;5;241m.\u001B[39mim \u001B[38;5;241m=\u001B[39m \u001B[38;5;28mself\u001B[39m\u001B[38;5;241m.\u001B[39mim\u001B[38;5;241m.\u001B[39mcopy()\n\u001B[1;32m    590\u001B[0m     \u001B[38;5;28mself\u001B[39m\u001B[38;5;241m.\u001B[39mpyaccess \u001B[38;5;241m=\u001B[39m \u001B[38;5;28;01mNone\u001B[39;00m\n",
      "File \u001B[0;32m/opt/anaconda3/envs/research_sp/lib/python3.10/site-packages/PIL/ImageFile.py:182\u001B[0m, in \u001B[0;36mImageFile.load\u001B[0;34m(self)\u001B[0m\n\u001B[1;32m    179\u001B[0m     msg \u001B[38;5;241m=\u001B[39m \u001B[38;5;124m\"\u001B[39m\u001B[38;5;124mcannot load this image\u001B[39m\u001B[38;5;124m\"\u001B[39m\n\u001B[1;32m    180\u001B[0m     \u001B[38;5;28;01mraise\u001B[39;00m \u001B[38;5;167;01mOSError\u001B[39;00m(msg)\n\u001B[0;32m--> 182\u001B[0m pixel \u001B[38;5;241m=\u001B[39m \u001B[43mImage\u001B[49m\u001B[38;5;241;43m.\u001B[39;49m\u001B[43mImage\u001B[49m\u001B[38;5;241;43m.\u001B[39;49m\u001B[43mload\u001B[49m\u001B[43m(\u001B[49m\u001B[38;5;28;43mself\u001B[39;49m\u001B[43m)\u001B[49m\n\u001B[1;32m    183\u001B[0m \u001B[38;5;28;01mif\u001B[39;00m \u001B[38;5;129;01mnot\u001B[39;00m \u001B[38;5;28mself\u001B[39m\u001B[38;5;241m.\u001B[39mtile:\n\u001B[1;32m    184\u001B[0m     \u001B[38;5;28;01mreturn\u001B[39;00m pixel\n",
      "File \u001B[0;32m/opt/anaconda3/envs/research_sp/lib/python3.10/site-packages/PIL/Image.py:876\u001B[0m, in \u001B[0;36mImage.load\u001B[0;34m(self)\u001B[0m\n\u001B[1;32m    874\u001B[0m     \u001B[38;5;28;01mif\u001B[39;00m \u001B[38;5;28mself\u001B[39m\u001B[38;5;241m.\u001B[39mpyaccess:\n\u001B[1;32m    875\u001B[0m         \u001B[38;5;28;01mreturn\u001B[39;00m \u001B[38;5;28mself\u001B[39m\u001B[38;5;241m.\u001B[39mpyaccess\n\u001B[0;32m--> 876\u001B[0m \u001B[38;5;28;01mreturn\u001B[39;00m \u001B[38;5;28;43mself\u001B[39;49m\u001B[38;5;241;43m.\u001B[39;49m\u001B[43mim\u001B[49m\u001B[38;5;241;43m.\u001B[39;49m\u001B[43mpixel_access\u001B[49m(\u001B[38;5;28mself\u001B[39m\u001B[38;5;241m.\u001B[39mreadonly)\n",
      "File \u001B[0;32m/opt/anaconda3/envs/research_sp/lib/python3.10/site-packages/PIL/_util.py:23\u001B[0m, in \u001B[0;36mDeferredError.__getattr__\u001B[0;34m(self, elt)\u001B[0m\n\u001B[1;32m     22\u001B[0m \u001B[38;5;28;01mdef\u001B[39;00m \u001B[38;5;21m__getattr__\u001B[39m(\u001B[38;5;28mself\u001B[39m, elt: \u001B[38;5;28mstr\u001B[39m) \u001B[38;5;241m-\u001B[39m\u001B[38;5;241m>\u001B[39m NoReturn:\n\u001B[0;32m---> 23\u001B[0m     \u001B[38;5;28;01mraise\u001B[39;00m \u001B[38;5;28mself\u001B[39m\u001B[38;5;241m.\u001B[39mex\n",
      "\u001B[0;31mValueError\u001B[0m: Operation on closed image"
     ]
    }
   ],
   "source": [
    "# Fix the seed for reproducibility\n",
    "random.seed(SEED)\n",
    "\n",
    "# Create the mixed datasets\n",
    "def create_mixed_dataset(ct_images: list, dl_images: list, percentage: float):\n",
    "    base_folder_name = \"train/mixed_dl_ct_\"\n",
    "\n",
    "    for percentage in PERCENTAGES:\n",
    "        # Start creating the directory\n",
    "        current_folder_name = base_folder_name + f'{int(percentage*100)}%'\n",
    "        os.makedirs(current_folder_name, exist_ok=True)\n",
    "        # Choose randomly the percentage of DL and CT images\n",
    "        total_images = len(dl_images)\n",
    "        dl_number = int(total_images * percentage)\n",
    "        ct_number = total_images - dl_number\n",
    "        batch_ct_images = random.sample(ct_images, ct_number)\n",
    "        batch_dl_images = random.sample(dl_images, dl_number)\n",
    "        mixed_images = batch_ct_images + batch_dl_images\n",
    "        random.shuffle(mixed_images)  # Shuffle the mixed images\n",
    "\n",
    "        # Store the mixed images in disk\n",
    "        for idx, image in tqdm(enumerate(mixed_images)):\n",
    "            cv2.imwrite(os.path.join(current_folder_name, f\"image_{idx:05}.png\"), image)\n",
    "\n",
    "create_mixed_dataset(ct_images=ct_images, dl_images=dl_images, percentage=PERCENTAGES)"
   ],
   "metadata": {
    "collapsed": false,
    "ExecuteTime": {
     "end_time": "2024-05-27T18:23:19.229281Z",
     "start_time": "2024-05-27T18:23:18.567209Z"
    }
   }
  }
 ],
 "metadata": {
  "kernelspec": {
   "display_name": "Python 3",
   "language": "python",
   "name": "python3"
  },
  "language_info": {
   "codemirror_mode": {
    "name": "ipython",
    "version": 2
   },
   "file_extension": ".py",
   "mimetype": "text/x-python",
   "name": "python",
   "nbconvert_exporter": "python",
   "pygments_lexer": "ipython2",
   "version": "2.7.6"
  }
 },
 "nbformat": 4,
 "nbformat_minor": 0
}
