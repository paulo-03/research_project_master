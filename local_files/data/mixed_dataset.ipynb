{
 "cells": [
  {
   "cell_type": "markdown",
   "metadata": {
    "collapsed": false,
    "jupyter": {
     "outputs_hidden": false
    }
   },
   "source": [
    "# Mixed Dataset\n",
    "\n",
    "This is a jupyter notebook to easily create folders with mixed DL and CT images.\n",
    "\n",
    "**Authors:** [Raphaël Achddou](https://people.epfl.ch/raphael.achddou) ([contact](mailto:raphael.achddou@epfl.ch)), [Paulo Ribeiro](https://people.epfl.ch/paulo.ribeirodecarvalho) ([contact](mailto:paulo.ribeirodecarvalho@epfl.ch))"
   ]
  },
  {
   "cell_type": "code",
   "execution_count": 2,
   "metadata": {
    "collapsed": false,
    "jupyter": {
     "outputs_hidden": false
    }
   },
   "outputs": [
    {
     "name": "stdout",
     "output_type": "stream",
     "text": [
      "Defaulting to user installation because normal site-packages is not writeable\n",
      "Collecting opencv-python\n",
      "  Downloading opencv_python-4.9.0.80-cp37-abi3-manylinux_2_17_x86_64.manylinux2014_x86_64.whl.metadata (20 kB)\n",
      "Requirement already satisfied: numpy>=1.21.2 in /usr/local/lib/python3.10/dist-packages (from opencv-python) (1.25.2)\n",
      "Downloading opencv_python-4.9.0.80-cp37-abi3-manylinux_2_17_x86_64.manylinux2014_x86_64.whl (62.2 MB)\n",
      "\u001b[2K   \u001b[90m━━━━━━━━━━━━━━━━━━━━━━━━━━━━━━━━━━━━━━━━\u001b[0m \u001b[32m62.2/62.2 MB\u001b[0m \u001b[31m39.6 MB/s\u001b[0m eta \u001b[36m0:00:00\u001b[0m:00:01\u001b[0m00:01\u001b[0m\n",
      "\u001b[?25hInstalling collected packages: opencv-python\n",
      "Successfully installed opencv-python-4.9.0.80\n"
     ]
    }
   ],
   "source": [
    "!pip install opencv-python"
   ]
  },
  {
   "cell_type": "code",
   "execution_count": 3,
   "metadata": {
    "ExecuteTime": {
     "end_time": "2024-05-27T18:40:11.656464Z",
     "start_time": "2024-05-27T18:40:11.497594Z"
    },
    "collapsed": false,
    "jupyter": {
     "outputs_hidden": false
    }
   },
   "outputs": [],
   "source": [
    "import os\n",
    "import cv2\n",
    "import random\n",
    "from tqdm.notebook import tqdm\n",
    "\n",
    "SEED = 42\n",
    "PERCENTAGES = [0.2, 0.4, 0.6, 0.8]"
   ]
  },
  {
   "cell_type": "markdown",
   "metadata": {
    "collapsed": false,
    "jupyter": {
     "outputs_hidden": false
    }
   },
   "source": [
    "## Load DL and CT\n",
    "\n",
    "First load all the DL and CT images."
   ]
  },
  {
   "cell_type": "code",
   "execution_count": 4,
   "metadata": {
    "ExecuteTime": {
     "end_time": "2024-05-27T18:33:48.833672Z",
     "start_time": "2024-05-27T18:33:47.297181Z"
    },
    "collapsed": false,
    "jupyter": {
     "outputs_hidden": false
    }
   },
   "outputs": [
    {
     "data": {
      "application/vnd.jupyter.widget-view+json": {
       "model_id": "ba6bba2388c74a8dbc0a5005995ee4e0",
       "version_major": 2,
       "version_minor": 0
      },
      "text/plain": [
       "  0%|          | 0/13300 [00:00<?, ?it/s]"
      ]
     },
     "metadata": {},
     "output_type": "display_data"
    },
    {
     "name": "stdout",
     "output_type": "stream",
     "text": [
      "Loaded 13300 DL images.\n"
     ]
    },
    {
     "data": {
      "application/vnd.jupyter.widget-view+json": {
       "model_id": "4b04300c997246f8bcad0ae81be63e6c",
       "version_major": 2,
       "version_minor": 0
      },
      "text/plain": [
       "  0%|          | 0/13302 [00:00<?, ?it/s]"
      ]
     },
     "metadata": {},
     "output_type": "display_data"
    },
    {
     "name": "stdout",
     "output_type": "stream",
     "text": [
      "Loaded 13302 CT images.\n"
     ]
    }
   ],
   "source": [
    "# Specify the directory containing the .png images\n",
    "dl_folder = \"train/dl_images_texture\"\n",
    "ct_folder = \"train/ct_images\"\n",
    "\n",
    "# Iterate over all files in the directory\n",
    "def load_images_in_folder(folder_path: str):\n",
    "    images = []\n",
    "    count = 0\n",
    "    for filename in tqdm(os.listdir(folder_path)):\n",
    "        # Check if the file is a .png image\n",
    "        count += 1\n",
    "        if filename.endswith(\".png\"):\n",
    "            # Construct the full file path\n",
    "            file_path = os.path.join(folder_path, filename)\n",
    "            # Open the image file\n",
    "            image = cv2.imread(file_path)\n",
    "            # Append the image to the list\n",
    "            if image is not None:\n",
    "                images.append(image)\n",
    "\n",
    "    return images\n",
    "\n",
    "dl_images = load_images_in_folder(folder_path=dl_folder)\n",
    "print(f\"Loaded {len(dl_images)} DL images.\")\n",
    "ct_images = load_images_in_folder(folder_path=ct_folder)\n",
    "print(f\"Loaded {len(ct_images)} CT images.\")"
   ]
  },
  {
   "cell_type": "markdown",
   "metadata": {
    "collapsed": false,
    "jupyter": {
     "outputs_hidden": false
    }
   },
   "source": [
    "## Mixed Dataset\n",
    "\n",
    "Compute the mixed dataset and store it in the disk."
   ]
  },
  {
   "cell_type": "code",
   "execution_count": 6,
   "metadata": {
    "ExecuteTime": {
     "end_time": "2024-05-27T18:23:19.229281Z",
     "start_time": "2024-05-27T18:23:18.567209Z"
    },
    "collapsed": false,
    "jupyter": {
     "outputs_hidden": false
    }
   },
   "outputs": [
    {
     "data": {
      "application/vnd.jupyter.widget-view+json": {
       "model_id": "2ce21cd059e5426983857a689557ba21",
       "version_major": 2,
       "version_minor": 0
      },
      "text/plain": [
       "  0%|          | 0/13300 [00:00<?, ?it/s]"
      ]
     },
     "metadata": {},
     "output_type": "display_data"
    },
    {
     "data": {
      "application/vnd.jupyter.widget-view+json": {
       "model_id": "ba34d41b5d26445da588ca3844a60ffc",
       "version_major": 2,
       "version_minor": 0
      },
      "text/plain": [
       "  0%|          | 0/13300 [00:00<?, ?it/s]"
      ]
     },
     "metadata": {},
     "output_type": "display_data"
    },
    {
     "data": {
      "application/vnd.jupyter.widget-view+json": {
       "model_id": "2f3712a283e9436ba4bcd047ea032999",
       "version_major": 2,
       "version_minor": 0
      },
      "text/plain": [
       "  0%|          | 0/13300 [00:00<?, ?it/s]"
      ]
     },
     "metadata": {},
     "output_type": "display_data"
    },
    {
     "data": {
      "application/vnd.jupyter.widget-view+json": {
       "model_id": "7e52e9770529484f9a55daf3e92e65aa",
       "version_major": 2,
       "version_minor": 0
      },
      "text/plain": [
       "  0%|          | 0/13300 [00:00<?, ?it/s]"
      ]
     },
     "metadata": {},
     "output_type": "display_data"
    }
   ],
   "source": [
    "# Fix the seed for reproductibility\n",
    "random.seed(SEED)\n",
    "\n",
    "# Create the mixed datasets\n",
    "def create_mixed_dataset(ct_images: list, dl_images: list, percentage: float):\n",
    "    base_folder_name = \"train/mixed_dl_ct_\"\n",
    "\n",
    "    for percentage in PERCENTAGES:\n",
    "        # Start creating the directory\n",
    "        current_folder_name = base_folder_name + f'{int(percentage*100)}%'\n",
    "        os.makedirs(current_folder_name, exist_ok=True)\n",
    "        # Choose randomly the percentage of DL and CT images\n",
    "        total_images = len(dl_images)\n",
    "        dl_number = int(total_images * percentage)\n",
    "        ct_number = total_images - dl_number\n",
    "        batch_ct_images = random.sample(ct_images, ct_number)\n",
    "        batch_dl_images = random.sample(dl_images, dl_number)\n",
    "        mixed_images = batch_ct_images + batch_dl_images\n",
    "        random.shuffle(mixed_images)  # Shuffle the mixed images\n",
    "\n",
    "        # Store the mixed images in disk\n",
    "        for idx, image in tqdm(enumerate(mixed_images), total=len(mixed_images)):\n",
    "            cv2.imwrite(os.path.join(current_folder_name, f\"image_{idx:05}.png\"), image)\n",
    "\n",
    "create_mixed_dataset(ct_images=ct_images, dl_images=dl_images, percentage=PERCENTAGES)"
   ]
  }
 ],
 "metadata": {
  "kernelspec": {
   "display_name": "Python 3 (ipykernel)",
   "language": "python",
   "name": "python3"
  },
  "language_info": {
   "codemirror_mode": {
    "name": "ipython",
    "version": 3
   },
   "file_extension": ".py",
   "mimetype": "text/x-python",
   "name": "python",
   "nbconvert_exporter": "python",
   "pygments_lexer": "ipython3",
   "version": "3.10.12"
  }
 },
 "nbformat": 4,
 "nbformat_minor": 4
}
