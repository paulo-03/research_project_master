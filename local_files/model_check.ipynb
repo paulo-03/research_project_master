{
 "cells": [
  {
   "cell_type": "markdown",
   "source": [
    "# Test De-Noising Model Implementation (to be deleted)\n",
    "\n",
    "Since no DL image can be created now (noise need to be further analyzed), we try the denoising model with the real CT images."
   ],
   "metadata": {
    "collapsed": false
   },
   "id": "36c6c88fdc82547b"
  },
  {
   "cell_type": "markdown",
   "source": [
    "## Model"
   ],
   "metadata": {
    "collapsed": false
   },
   "id": "ac0e6005a4915ab6"
  },
  {
   "cell_type": "code",
   "outputs": [],
   "source": [
    "import os\n",
    "import torch\n",
    "from utils import load_data\n",
    "\n",
    "os.chdir(\"models\")\n",
    "from cnn_trainer import CnnTrainer\n",
    "from cnn_viewer import CnnViewer\n",
    "\n",
    "os.chdir(\"../\")\n",
    "\n",
    "%load_ext autoreload\n",
    "%autoreload 2"
   ],
   "metadata": {
    "collapsed": false,
    "ExecuteTime": {
     "end_time": "2024-04-01T21:17:22.507084Z",
     "start_time": "2024-04-01T21:17:20.885684Z"
    }
   },
   "id": "2b224868c89acaf6",
   "execution_count": 1
  },
  {
   "cell_type": "markdown",
   "source": [
    "## Data\n",
    "\n",
    "Create a folder to be deleted to have png images to  test our model."
   ],
   "metadata": {
    "collapsed": false
   },
   "id": "fc3466c1df073fc8"
  },
  {
   "cell_type": "code",
   "outputs": [],
   "source": [
    "## ~1min45s to load all 42'487 images\n",
    "#data_path = 'data'\n",
    "#data = load_data(data_path)\n",
    "#\n",
    "#def save_images_to_folder(image_list, folder_path):\n",
    "#    if not os.path.exists(folder_path):\n",
    "#        os.makedirs(folder_path)\n",
    "#\n",
    "#    for i, image in enumerate(image_list):\n",
    "#        image.save(os.path.join(folder_path, f\"image_{i}.png\"))\n",
    "#\n",
    "#\n",
    "## Let's only look at one specific patient for computation reasons\n",
    "#l506 = data.filter(cat=['train'],\n",
    "#                   img_type=['3mm B30'],\n",
    "#                   dose=['full', 'quarter'],\n",
    "#                   patient=['L506'])\n",
    "#\n",
    "## Separate full and quarter dose image of patient L506 for one specific conditions\n",
    "#l506_fd = l506.filter(dose=['full'])\n",
    "#l506_qd = l506.filter(dose=['quarter'])\n",
    "#\n",
    "#pil_ct_images_te = [img.pil for img in l506_fd.imgs]\n",
    "#pil_ct_images_tr = [img.pil for img in l506_qd.imgs]\n",
    "#\n",
    "#save_images_to_folder(pil_ct_images_tr, 'to_delete/train')\n",
    "#save_images_to_folder(pil_ct_images_te, 'to_delete/test')"
   ],
   "metadata": {
    "collapsed": false,
    "ExecuteTime": {
     "end_time": "2024-04-01T21:17:22.521143Z",
     "start_time": "2024-04-01T21:17:22.507955Z"
    }
   },
   "id": "5e4daac12e78f238",
   "execution_count": 2
  },
  {
   "cell_type": "markdown",
   "source": [
    "Define model parameters"
   ],
   "metadata": {
    "collapsed": false
   },
   "id": "e8ea4063da184f8f"
  },
  {
   "cell_type": "code",
   "outputs": [
    {
     "name": "stdout",
     "output_type": "stream",
     "text": [
      "Start Training Epoch 1/4...\n"
     ]
    },
    {
     "name": "stderr",
     "output_type": "stream",
     "text": [
      "Progress of training epoch 1: 85it [00:16,  5.13it/s]                        \n",
      "Progress of validation metrics epoch 1: 100%|██████████| 21/21 [00:00<00:00, 45.27it/s]\n"
     ]
    },
    {
     "name": "stdout",
     "output_type": "stream",
     "text": [
      "- Average metrics: \n",
      "\t- train loss=4.28e-02, train mse=4.28e-02, learning rate=0.0009487106797846494 \n",
      "\t- val loss=1.15e-02, val mse=1.15e-02 \n",
      "Finish Training Epoch 1 !\n",
      "\n",
      "Start Training Epoch 2/4...\n"
     ]
    },
    {
     "name": "stderr",
     "output_type": "stream",
     "text": [
      "Progress of training epoch 2: 85it [00:16,  5.13it/s]                        \n",
      "Progress of validation metrics epoch 2: 100%|██████████| 21/21 [00:00<00:00, 51.22it/s]\n"
     ]
    },
    {
     "name": "stdout",
     "output_type": "stream",
     "text": [
      "- Average metrics: \n",
      "\t- train loss=1.31e-02, train mse=1.31e-02, learning rate=0.0006811638640718845 \n",
      "\t- val loss=3.83e-03, val mse=3.83e-03 \n",
      "Finish Training Epoch 2 !\n",
      "\n",
      "Start Training Epoch 3/4...\n"
     ]
    },
    {
     "name": "stderr",
     "output_type": "stream",
     "text": [
      "Progress of training epoch 3: 85it [00:16,  5.04it/s]                        \n",
      "Progress of validation metrics epoch 3: 100%|██████████| 21/21 [00:00<00:00, 61.84it/s]\n"
     ]
    },
    {
     "name": "stdout",
     "output_type": "stream",
     "text": [
      "- Average metrics: \n",
      "\t- train loss=5.32e-03, train mse=5.32e-03, learning rate=0.000306300285938328 \n",
      "\t- val loss=2.85e-03, val mse=2.85e-03 \n",
      "Finish Training Epoch 3 !\n",
      "\n",
      "Start Training Epoch 4/4...\n"
     ]
    },
    {
     "name": "stderr",
     "output_type": "stream",
     "text": [
      "Progress of training epoch 4: 85it [00:16,  5.10it/s]                        \n",
      "Progress of validation metrics epoch 4: 100%|██████████| 21/21 [00:00<00:00, 54.22it/s]"
     ]
    },
    {
     "name": "stdout",
     "output_type": "stream",
     "text": [
      "- Average metrics: \n",
      "\t- train loss=4.64e-03, train mse=4.64e-03, learning rate=4.6179381800086134e-05 \n",
      "\t- val loss=2.76e-03, val mse=2.76e-03 \n",
      "Finish Training Epoch 4 !\n"
     ]
    },
    {
     "name": "stderr",
     "output_type": "stream",
     "text": [
      "\n"
     ]
    }
   ],
   "source": [
    "data_kwargs = dict(\n",
    "    batch_size=2,\n",
    "    images_folder_path='to_delete/train',\n",
    "    target_folder_path='to_delete/test'\n",
    ")\n",
    "\n",
    "optimizer_kwargs = dict(\n",
    "    lr=1e-3,\n",
    "    weight_decay=1e-2\n",
    ")\n",
    "\n",
    "cnn = CnnTrainer(\n",
    "    model_name='DnCNN',\n",
    "    data_kwargs=data_kwargs,\n",
    "    num_epochs=4,\n",
    "    device='cpu',\n",
    "    optimizer_kwargs=optimizer_kwargs,\n",
    "    model_saving_path=None,\n",
    "    val_size=0.2\n",
    ")\n",
    "\n",
    "cnn.fit()"
   ],
   "metadata": {
    "collapsed": false,
    "ExecuteTime": {
     "end_time": "2024-04-01T21:18:30.818880Z",
     "start_time": "2024-04-01T21:17:22.521666Z"
    }
   },
   "id": "e9e499a8a1bd725e",
   "execution_count": 3
  }
 ],
 "metadata": {
  "kernelspec": {
   "display_name": "Python 3",
   "language": "python",
   "name": "python3"
  },
  "language_info": {
   "codemirror_mode": {
    "name": "ipython",
    "version": 2
   },
   "file_extension": ".py",
   "mimetype": "text/x-python",
   "name": "python",
   "nbconvert_exporter": "python",
   "pygments_lexer": "ipython2",
   "version": "2.7.6"
  }
 },
 "nbformat": 4,
 "nbformat_minor": 5
}
