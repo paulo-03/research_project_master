{
 "cells": [
  {
   "cell_type": "markdown",
   "metadata": {
    "collapsed": false,
    "jupyter": {
     "outputs_hidden": false
    }
   },
   "source": [
    "# Dead Leaves - Synthetic Images Generation\n",
    "\n",
    "Description of the jupyter notebook and maybe brief overview of the all project.\n",
    "\n",
    "**Authors:** [Raphaël Achddou](https://people.epfl.ch/raphael.achddou) ([contact](mailto:raphael.achddou@epfl.ch)), [Paulo Ribeiro](https://people.epfl.ch/paulo.ribeirodecarvalho) ([contact](mailto:paulo.ribeirodecarvalho@epfl.ch))"
   ]
  },
  {
   "cell_type": "markdown",
   "metadata": {
    "collapsed": false,
    "jupyter": {
     "outputs_hidden": false
    }
   },
   "source": [
    "## Import"
   ]
  },
  {
   "cell_type": "code",
   "execution_count": 5,
   "metadata": {
    "ExecuteTime": {
     "end_time": "2024-04-12T10:40:11.709269Z",
     "start_time": "2024-04-12T10:40:05.648385Z"
    },
    "collapsed": false,
    "jupyter": {
     "outputs_hidden": false
    }
   },
   "outputs": [],
   "source": [
    "import numpy as np\n",
    "import matplotlib.pyplot as plt\n",
    "\n",
    "from utils import load_data\n",
    "from skimage.morphology import disk, ellipse, square\n",
    "from dead_leaves_generator import *\n",
    "\n",
    "%load_ext autoreload\n",
    "%autoreload 2"
   ]
  },
  {
   "cell_type": "markdown",
   "metadata": {
    "collapsed": false,
    "jupyter": {
     "outputs_hidden": false
    }
   },
   "source": [
    "## CT Images Stats"
   ]
  },
  {
   "cell_type": "code",
   "execution_count": null,
   "metadata": {
    "collapsed": false,
    "jupyter": {
     "outputs_hidden": false
    }
   },
   "outputs": [],
   "source": [
    "ct_stat_results = np.load('data_stats_analysis/ct_stat_results.npz')"
   ]
  },
  {
   "cell_type": "markdown",
   "metadata": {
    "collapsed": false,
    "jupyter": {
     "outputs_hidden": false
    }
   },
   "source": [
    "## Generation"
   ]
  },
  {
   "cell_type": "code",
   "execution_count": null,
   "metadata": {},
   "outputs": [],
   "source": [
    "dl_args = {\n",
    "    'alpha': ct_stat_results['alpha'] + 1,\n",
    "    'r_min': 16,\n",
    "    'r_max': 500,\n",
    "    'color_distribution': ct_stat_results['color_distribution'],\n",
    "    'width': 512,\n",
    "    'height': 512,\n",
    "    'max_object': 10000\n",
    "}\n",
    "\n",
    "dead_leaves = dead_leaves_generator(13301, dl_args)\n",
    "# Note that we only compute 13'301 DL images since a test batch is not required. We test performance of models on CT."
   ]
  },
  {
   "cell_type": "markdown",
   "metadata": {},
   "source": [
    "Look at the dead leaves generated."
   ]
  },
  {
   "cell_type": "code",
   "execution_count": null,
   "metadata": {},
   "outputs": [],
   "source": [
    "idx = 0\n",
    "\n",
    "print(\"Radius min: \", dead_leaves.r_min)\n",
    "print(\"Radius max: \", dead_leaves.r_max)\n",
    "print(\"Alpha: \", dead_leaves.alpha)\n",
    "print(\"Number of images: \", dead_leaves.len)\n",
    "print(f\"----------- idx: {idx} -----------\")\n",
    "print(\"Disk number: \", dead_leaves.imgs[idx].disk_number)\n",
    "print(\"Width: \", dead_leaves.imgs[idx].width)\n",
    "print(\"Height: \", dead_leaves.imgs[idx].height)\n",
    "print(\"Radius mean: \", dead_leaves.imgs[idx].r_mean)\n",
    "dead_leaves.imgs[idx].pil"
   ]
  },
  {
   "cell_type": "markdown",
   "metadata": {
    "collapsed": false,
    "jupyter": {
     "outputs_hidden": false
    }
   },
   "source": [
    "## Statistical Overview\n",
    "\n",
    "Look at some statistical image metric to check if you mimic the ones of a CT image."
   ]
  },
  {
   "cell_type": "markdown",
   "metadata": {
    "collapsed": false,
    "jupyter": {
     "outputs_hidden": false
    }
   },
   "source": [
    "### Color Distribution"
   ]
  },
  {
   "cell_type": "code",
   "execution_count": null,
   "metadata": {
    "collapsed": false,
    "jupyter": {
     "outputs_hidden": false
    }
   },
   "outputs": [],
   "source": [
    "dl_color_hist = dead_leaves.color_histogram(plot=True)"
   ]
  },
  {
   "cell_type": "markdown",
   "metadata": {
    "collapsed": false,
    "jupyter": {
     "outputs_hidden": false
    }
   },
   "source": [
    "### Directional Gradient"
   ]
  },
  {
   "cell_type": "code",
   "execution_count": null,
   "metadata": {
    "collapsed": false,
    "jupyter": {
     "outputs_hidden": false
    }
   },
   "outputs": [],
   "source": [
    "dl_grad_dist_x, dl_grad_dist_y, dl_grad_intensity = dead_leaves.directional_gradient(plot=True)"
   ]
  },
  {
   "cell_type": "markdown",
   "metadata": {
    "collapsed": false,
    "jupyter": {
     "outputs_hidden": false
    }
   },
   "source": [
    "### Fourier Analysis"
   ]
  },
  {
   "cell_type": "code",
   "execution_count": null,
   "metadata": {
    "collapsed": false,
    "jupyter": {
     "outputs_hidden": false
    }
   },
   "outputs": [],
   "source": [
    "dl_alpha = dead_leaves.fourier_transform_analysis(plot=True)"
   ]
  },
  {
   "cell_type": "markdown",
   "metadata": {
    "collapsed": false,
    "jupyter": {
     "outputs_hidden": false
    }
   },
   "source": [
    "## Store DL images"
   ]
  },
  {
   "cell_type": "code",
   "execution_count": null,
   "metadata": {
    "collapsed": false,
    "jupyter": {
     "outputs_hidden": false
    }
   },
   "outputs": [],
   "source": [
    "def store_dl_disk(path, dl_imgs):\n",
    "    for idx, dl in enumerate(dl_imgs):\n",
    "        path += f\"image_{idx:05}.png\"\n",
    "        img = dl.pil\n",
    "        img.save(path)\n",
    "\n",
    "# Fix the path to store the dl images\n",
    "path = \"data/train/dl_images\"\n",
    "\n",
    "# Store the image in disk\n",
    "store_dl_disk(path, dead_leaves.imgs)"
   ]
  }
 ],
 "metadata": {
  "kernelspec": {
   "display_name": "Python 3 (ipykernel)",
   "language": "python",
   "name": "python3"
  },
  "language_info": {
   "codemirror_mode": {
    "name": "ipython",
    "version": 3
   },
   "file_extension": ".py",
   "mimetype": "text/x-python",
   "name": "python",
   "nbconvert_exporter": "python",
   "pygments_lexer": "ipython3",
   "version": "3.10.12"
  }
 },
 "nbformat": 4,
 "nbformat_minor": 4
}
